{
 "cells": [
  {
   "cell_type": "markdown",
   "metadata": {},
   "source": [
    "### Access MIP and EDA\n",
    "***"
   ]
  },
  {
   "cell_type": "markdown",
   "metadata": {},
   "source": [
    "Import libraries:"
   ]
  },
  {
   "cell_type": "code",
   "execution_count": 38,
   "metadata": {},
   "outputs": [],
   "source": [
    "import pandas as pd\n",
    "import pyodbc as p"
   ]
  },
  {
   "cell_type": "code",
   "execution_count": 39,
   "metadata": {},
   "outputs": [],
   "source": [
    "def limit10_fn(conn,db_name, table_name):\n",
    "    query=\"\"\"select * from {db_name}.{table_name} limit 10\"\"\".format(db_name=db_name,table_name=table_name)\n",
    "    return pd.read_sql(query,conn)"
   ]
  },
  {
   "cell_type": "code",
   "execution_count": 40,
   "metadata": {},
   "outputs": [],
   "source": [
    "sql_query=\"\"\"select * from \n",
    "(\n",
    "with cte as (\n",
    "select distinct\n",
    "ben.ms_pk\n",
    ",scheme_name\n",
    ",first_name\n",
    ",surname\n",
    ",gender\t\n",
    ",birth_date\n",
    ",main_email\t\n",
    ",main_work_tel\t\n",
    ",id_num \n",
    ",ben.dep_fk \n",
    ",ben.comp_name\n",
    ",mipst_dbo.tsf_ccm_template.template_label\t\n",
    ",mipst_dbo.tsf_ccm_template.template_description\n",
    ",user_code\n",
    ",replace(substring(call_start_datetime,1,10), '-','') as call_date \n",
    ",coalesce(g.comp_name,'none') as group_name\t\n",
    ",dep_type\n",
    ",ben.comp_fk\n",
    ",scheme_fk\n",
    "\n",
    "FROM mipst_dbo.tsf_ccm_template\n",
    "left join mipst_dbo.tsf_cct_call call ON call.template_obj = mipst_dbo.tsf_ccm_template.template_obj and call.status_key = 'cc_StCctcaComp' \n",
    "inner join mipst_dbo.tsd_cc_relationship real ON real.owning_obj::NUMERIC = call.call_obj\n",
    "and UPPER(owning_entity_mnemonic) = 'CCTCA'\n",
    "AND   UPPER(related_entity_mnemonic) in ('MEMBER','MEMDEP')\n",
    "inner join  mipbi_dbo.td_beneficiary ben ON ben.ms_pk = coalesce(nullif(split_part(related_key, '|',1), ''), '0') --and scheme_fk='126'\n",
    "and dep_fk::int\t=coalesce(nullif(split_part(related_key, '|',2), ''), '0')::int\n",
    "left join mipst_dbo.tsd_ben_memcom g  on  (case when ben.group_code='0' then ben.comp_fk else ben.group_code end)=g.comp_fk\n",
    ") select cte.ms_pk\n",
    ",scheme_name\n",
    ",first_name\n",
    ",surname\n",
    ",gender\t\n",
    ",birth_date\n",
    ",main_email\t\n",
    ",main_work_tel\t\n",
    ",id_num as identity_number \n",
    ",dep_fk as dependent_no\n",
    ",dep_type\n",
    ",cte.comp_name as companyname\n",
    ", group_name\n",
    ",cte.template_label\t\n",
    ",cte.template_description\n",
    ",cte.user_code\n",
    ", cte.call_date::varchar::date as call_date \n",
    ", array_to_string(array_agg(distinct (coalesce((c.Problem||'-'||c.sub_category),'') ||','||coalesce(l.Problem ,'')||','||coalesce(f.Problem ,''))),',') as Problem_name\n",
    "from cte \n",
    "INNER JOIN \n",
    "mipst_dbo.tsd_dates on mipst_dbo.tsd_dates.date_pk::VARCHAR =call_date \n",
    "left join \n",
    "mipst_dbo.legal_raw_2021 l on cte.ms_pk=l.ms_pk and cte.dep_fk=l.dependent_no::int and  cte.call_date::varchar::date =l.call_date and cte.template_label=l.template_label and cte.comp_name=l.comp_name \n",
    "\t\t\t\t  and  cte.scheme_fk=l.scheme_fk and cte.user_code=l.user_code  left join\n",
    "mipst_dbo.councelling_raw_2021 c on cte.ms_pk=c.ms_pk and cte.dep_fk=c.dependent_no::int and  cte.call_date::varchar::date =c.call_date and cte.template_label=c.template_label and cte.comp_name=c.comp_name \t\t\t \n",
    "and  cte.scheme_fk=c.scheme_fk and cte.user_code=c.user_code  left join\n",
    "mipst_dbo.financial_raw_2021 f on cte.ms_pk=f.ms_pk and cte.dep_fk=f.dependent_no::int and  cte.call_date::varchar::date =f.call_date and cte.template_label=f.template_label and cte.comp_name=f.comp_name \t\t\t \n",
    "and  cte.scheme_fk=f.scheme_fk and cte.user_code=f.user_code  \n",
    "group by cte.ms_pk\n",
    ",scheme_name\n",
    ",first_name\n",
    ",surname\n",
    ",gender\t\n",
    ",birth_date\n",
    ",main_email\t\n",
    ",main_work_tel\t\n",
    ",id_num  \n",
    ",dep_fk\n",
    ",dep_type\t\t\t\t  \n",
    ",cte.comp_name \n",
    ", group_name\n",
    ",cte.template_label\t\n",
    ",cte.template_description\n",
    ",cte.user_code\n",
    ", cte.call_date::varchar::date \n",
    ") a\"\"\""
   ]
  },
  {
   "cell_type": "markdown",
   "metadata": {},
   "source": [
    "Here we connect to the __kx_bi__ postgres database and execute the above query to generate the EAP raw data set:"
   ]
  },
  {
   "cell_type": "code",
   "execution_count": 41,
   "metadata": {},
   "outputs": [],
   "source": [
    "conn_str = (\n",
    "    \"DRIVER={PostgreSQL ODBC Driver(UNICODE)};\"\n",
    "    \"DATABASE=kx_bi;\"\n",
    "    \"UID=postgres;\"\n",
    "    \"PWD=postgres;\"\n",
    "    \"SERVER=172.31.244.44;\"\n",
    "    \"PORT=5432;\"\n",
    "    )\n",
    "\n",
    "conn = p.connect(conn_str)\n",
    "# cursor = conn.cursor()\n",
    "\n",
    "eapraw_df = pd.read_sql(sql_query,conn)"
   ]
  },
  {
   "cell_type": "code",
   "execution_count": 49,
   "metadata": {},
   "outputs": [
    {
     "data": {
      "text/plain": [
       "',,Debt Management,,,WillsandEstate,,,Willsdrafting'"
      ]
     },
     "execution_count": 49,
     "metadata": {},
     "output_type": "execute_result"
    }
   ],
   "source": [
    "eapraw_df.iloc[3366][\"problem_name\"]\n",
    "# [eapraw_df.ms_pk==\"\"\"01678068\"\"\"]"
   ]
  },
  {
   "cell_type": "code",
   "execution_count": 50,
   "metadata": {},
   "outputs": [
    {
     "data": {
      "text/plain": [
       "',,Debt Management,,,WillsandEstate,,,Willsdrafting'"
      ]
     },
     "execution_count": 50,
     "metadata": {},
     "output_type": "execute_result"
    }
   ],
   "source": [
    "eapraw_df.iloc[3366][\"problem_name\"]"
   ]
  },
  {
   "cell_type": "code",
   "execution_count": 42,
   "metadata": {},
   "outputs": [
    {
     "data": {
      "text/plain": [
       "['ms_pk',\n",
       " 'scheme_name',\n",
       " 'first_name',\n",
       " 'surname',\n",
       " 'gender',\n",
       " 'birth_date',\n",
       " 'main_email',\n",
       " 'main_work_tel',\n",
       " 'identity_number',\n",
       " 'dependent_no',\n",
       " 'dep_type',\n",
       " 'companyname',\n",
       " 'group_name',\n",
       " 'template_label',\n",
       " 'template_description',\n",
       " 'user_code',\n",
       " 'call_date',\n",
       " 'problem_name']"
      ]
     },
     "execution_count": 42,
     "metadata": {},
     "output_type": "execute_result"
    }
   ],
   "source": [
    "list(eapraw_df)"
   ]
  },
  {
   "cell_type": "code",
   "execution_count": null,
   "metadata": {},
   "outputs": [],
   "source": [
    "\"\"\"\n",
    "mipst_dbo.tsf_ccm_template\n",
    "mipst_dbo.tsf_cct_call\n",
    "mipst_dbo.tsd_cc_relationship\n",
    "mipbi_dbo.td_beneficiary\n",
    "mipst_dbo.tsd_ben_memcom\n",
    "mipst_dbo.tsd_dates\n",
    "mipst_dbo.legal_raw_2021\n",
    "mipst_dbo.councelling_raw_2021\n",
    "mipst_dbo.financial_raw_2021\n",
    "\"\"\""
   ]
  },
  {
   "cell_type": "code",
   "execution_count": 8,
   "metadata": {},
   "outputs": [],
   "source": []
  },
  {
   "cell_type": "code",
   "execution_count": 15,
   "metadata": {},
   "outputs": [],
   "source": [
    "tsf_ccm_template_df=limit10_fn(conn=conn,db_name=\"mipst_dbo\", table_name=\"tsf_ccm_template\")\n",
    "tsf_cct_call_df=limit10_fn(conn=conn,db_name=\"mipst_dbo\",table_name=\"tsf_cct_call\")\n",
    "tsd_cc_relationship_df=limit10_fn(conn=conn,db_name=\"mipst_dbo\",table_name=\"tsd_cc_relationship\")\n",
    "td_beneficiary_df=limit10_fn(conn=conn,db_name=\"mipbi_dbo\",table_name=\"td_beneficiary\")\n",
    "tsd_ben_memcom_df=limit10_fn(conn=conn,db_name=\"mipst_dbo\",table_name=\"tsd_ben_memcom\")\n",
    "tsd_dates_df=limit10_fn(conn=conn,db_name=\"mipst_dbo\",table_name=\"tsd_dates\")\n",
    "legal_raw_2021_df=limit10_fn(conn=conn,db_name=\"mipst_dbo\",table_name=\"legal_raw_2021\")\n",
    "councelling_raw_2021_df=limit10_fn(conn=conn,db_name=\"mipst_dbo\",table_name=\"councelling_raw_2021\")\n",
    "financial_raw_2021_df=limit10_fn(conn=conn,db_name=\"mipst_dbo\",table_name=\"financial_raw_2021\")"
   ]
  },
  {
   "cell_type": "code",
   "execution_count": 20,
   "metadata": {},
   "outputs": [
    {
     "data": {
      "text/plain": [
       "['template_obj',\n",
       " 'status_key',\n",
       " 'category_key',\n",
       " 'object_obj',\n",
       " 'template_code',\n",
       " 'template_label',\n",
       " 'template_description',\n",
       " 'template_field_namelist',\n",
       " 'template_field_attriblist',\n",
       " 'last_modified_datetime']"
      ]
     },
     "execution_count": 20,
     "metadata": {},
     "output_type": "execute_result"
    }
   ],
   "source": [
    "# tsf_ccm_template_df\n",
    "list(tsf_ccm_template_df)"
   ]
  },
  {
   "cell_type": "code",
   "execution_count": 21,
   "metadata": {},
   "outputs": [
    {
     "data": {
      "text/plain": [
       "['call_obj',\n",
       " 'template_obj',\n",
       " 'status_key',\n",
       " 'call_reference',\n",
       " 'user_code',\n",
       " 'direction_acronym_key',\n",
       " 'method_acronym_key',\n",
       " 'abort_reason_acronym_key',\n",
       " 'call_field_namelist',\n",
       " 'call_field_attriblist',\n",
       " 'call_caller_name',\n",
       " 'call_telephone_number',\n",
       " 'call_start_datetime',\n",
       " 'call_end_datetime',\n",
       " 'call_enquiry',\n",
       " 'call_response',\n",
       " 'call_wordindex',\n",
       " 'last_modified_datetime',\n",
       " 'call_start_datetime_int']"
      ]
     },
     "execution_count": 21,
     "metadata": {},
     "output_type": "execute_result"
    }
   ],
   "source": [
    "list(tsf_cct_call_df)"
   ]
  },
  {
   "cell_type": "code",
   "execution_count": 22,
   "metadata": {},
   "outputs": [
    {
     "data": {
      "text/plain": [
       "['relationship_obj',\n",
       " 'relation_key',\n",
       " 'owning_entity_mnemonic',\n",
       " 'owning_obj',\n",
       " 'owning_key',\n",
       " 'related_entity_mnemonic',\n",
       " 'related_obj',\n",
       " 'related_key']"
      ]
     },
     "execution_count": 22,
     "metadata": {},
     "output_type": "execute_result"
    }
   ],
   "source": [
    "list(tsd_cc_relationship_df)"
   ]
  },
  {
   "cell_type": "code",
   "execution_count": 23,
   "metadata": {},
   "outputs": [
    {
     "data": {
      "text/plain": [
       "['admin_fk',\n",
       " 'scheme_fk',\n",
       " 'scheme_name',\n",
       " 'ms_pk',\n",
       " 'mem_status',\n",
       " 'dep_fk',\n",
       " 'dep_type',\n",
       " 'surname',\n",
       " 'initials',\n",
       " 'birth_date',\n",
       " 'gender',\n",
       " 'race_code',\n",
       " 'phys1',\n",
       " 'phys2',\n",
       " 'phys3',\n",
       " 'phys4',\n",
       " 'phys5',\n",
       " 'phys_code',\n",
       " 'post1',\n",
       " 'post2',\n",
       " 'post3',\n",
       " 'post4',\n",
       " 'post5',\n",
       " 'post_code',\n",
       " 'start_date',\n",
       " 'end_date',\n",
       " 'join_date',\n",
       " 'resign_date',\n",
       " 'benefit_date',\n",
       " 'suspend_date',\n",
       " 'income_amount',\n",
       " 'broker_fk',\n",
       " 'comp_fk',\n",
       " 'comp_name',\n",
       " 'load_date',\n",
       " 'sub_company_fk',\n",
       " 'subcomp_name',\n",
       " 'income_cat',\n",
       " 'resign_code',\n",
       " 'resign_reason',\n",
       " 'main_type',\n",
       " 'relationship',\n",
       " 'title',\n",
       " 'main_tel',\n",
       " 'main_cell',\n",
       " 'main_work_tel',\n",
       " 'main_email',\n",
       " 'comp_post_code',\n",
       " 'inact_start_1',\n",
       " 'inact_start_2',\n",
       " 'inact_end_1',\n",
       " 'inact_end_2',\n",
       " 'wait_per_cat',\n",
       " 'income_proof_date',\n",
       " 'graduation_date',\n",
       " 'underwrite_cat',\n",
       " 'first_name',\n",
       " 'group_class',\n",
       " 'group_code',\n",
       " 'id_num',\n",
       " 'pref_lang',\n",
       " 'home_lang',\n",
       " 'penalty_percentage',\n",
       " 'orig_joined',\n",
       " 'main_dep',\n",
       " 'suspend_type',\n",
       " 'act_status',\n",
       " 'nick_name',\n",
       " 'student_number',\n",
       " 'emp_num',\n",
       " 'pay_mode',\n",
       " 's_subs_code',\n",
       " 'wait_per',\n",
       " 'dis_incent',\n",
       " 'tax_claimed',\n",
       " 'tax_benefit',\n",
       " 'bfwd',\n",
       " 'due',\n",
       " 'branch_code',\n",
       " 'pay_point',\n",
       " 'card_count',\n",
       " 'agent_com_perc',\n",
       " 'persal_member',\n",
       " 'o_subs_code',\n",
       " 'cont_person',\n",
       " 'tel',\n",
       " 'id_type',\n",
       " 'subs_override']"
      ]
     },
     "execution_count": 23,
     "metadata": {},
     "output_type": "execute_result"
    }
   ],
   "source": [
    "list(td_beneficiary_df)"
   ]
  },
  {
   "cell_type": "code",
   "execution_count": 24,
   "metadata": {},
   "outputs": [
    {
     "data": {
      "text/plain": [
       "['comp_fk',\n",
       " 'comp_name',\n",
       " 'cre_cont_code',\n",
       " 'group_class',\n",
       " 'group_code',\n",
       " 'cont_person',\n",
       " 'tel']"
      ]
     },
     "execution_count": 24,
     "metadata": {},
     "output_type": "execute_result"
    }
   ],
   "source": [
    "list(tsd_ben_memcom_df)"
   ]
  },
  {
   "cell_type": "code",
   "execution_count": 25,
   "metadata": {},
   "outputs": [
    {
     "data": {
      "text/plain": [
       "['year_number',\n",
       " 'month_number',\n",
       " 'day_of_year_number',\n",
       " 'day_of_month_number',\n",
       " 'day_of_week_number',\n",
       " 'week_of_year_number',\n",
       " 'day_name',\n",
       " 'month_name',\n",
       " 'quarter_number',\n",
       " 'quarter_name',\n",
       " 'year_quarter_name',\n",
       " 'weekend_ind',\n",
       " 'days_in_month_qty',\n",
       " 'date_pk',\n",
       " 'day_desc',\n",
       " 'week_sk',\n",
       " 'day_date',\n",
       " 'week_name',\n",
       " 'week_of_month_number',\n",
       " 'week_of_month_name',\n",
       " 'month_sk',\n",
       " 'quarter_sk',\n",
       " 'year_sk',\n",
       " 'year_sort_number',\n",
       " 'day_of_week_sort_name']"
      ]
     },
     "execution_count": 25,
     "metadata": {},
     "output_type": "execute_result"
    }
   ],
   "source": [
    "list(tsd_dates_df)"
   ]
  },
  {
   "cell_type": "code",
   "execution_count": 26,
   "metadata": {},
   "outputs": [
    {
     "data": {
      "text/plain": [
       "['ms_pk',\n",
       " 'comp_name',\n",
       " 'comp_fk',\n",
       " 'user_code',\n",
       " 'template_label',\n",
       " 'call_date',\n",
       " 'dependent_no',\n",
       " 'problem',\n",
       " 'sub_category',\n",
       " 'scheme_fk']"
      ]
     },
     "execution_count": 26,
     "metadata": {},
     "output_type": "execute_result"
    }
   ],
   "source": [
    "list(legal_raw_2021_df)"
   ]
  },
  {
   "cell_type": "code",
   "execution_count": 27,
   "metadata": {},
   "outputs": [
    {
     "data": {
      "text/plain": [
       "['ms_pk',\n",
       " 'comp_name',\n",
       " 'comp_fk',\n",
       " 'user_code',\n",
       " 'template_label',\n",
       " 'call_date',\n",
       " 'dependent_no',\n",
       " 'problem',\n",
       " 'sub_category',\n",
       " 'scheme_fk']"
      ]
     },
     "execution_count": 27,
     "metadata": {},
     "output_type": "execute_result"
    }
   ],
   "source": [
    "list(councelling_raw_2021_df)"
   ]
  },
  {
   "cell_type": "code",
   "execution_count": 28,
   "metadata": {},
   "outputs": [
    {
     "data": {
      "text/plain": [
       "['ms_pk',\n",
       " 'comp_name',\n",
       " 'comp_fk',\n",
       " 'user_code',\n",
       " 'template_label',\n",
       " 'call_date',\n",
       " 'dependent_no',\n",
       " 'problem',\n",
       " 'sub_category',\n",
       " 'scheme_fk']"
      ]
     },
     "execution_count": 28,
     "metadata": {},
     "output_type": "execute_result"
    }
   ],
   "source": [
    "list(financial_raw_2021_df)"
   ]
  },
  {
   "cell_type": "code",
   "execution_count": 29,
   "metadata": {},
   "outputs": [
    {
     "data": {
      "text/plain": [
       "['ms_pk',\n",
       " 'comp_name',\n",
       " 'comp_fk',\n",
       " 'user_code',\n",
       " 'template_label',\n",
       " 'call_date',\n",
       " 'dependent_no',\n",
       " 'problem',\n",
       " 'sub_category',\n",
       " 'scheme_fk']"
      ]
     },
     "execution_count": 29,
     "metadata": {},
     "output_type": "execute_result"
    }
   ],
   "source": [
    "list(councelling_raw_2021_df)"
   ]
  },
  {
   "cell_type": "code",
   "execution_count": 37,
   "metadata": {},
   "outputs": [
    {
     "data": {
      "text/html": [
       "<div>\n",
       "<style scoped>\n",
       "    .dataframe tbody tr th:only-of-type {\n",
       "        vertical-align: middle;\n",
       "    }\n",
       "\n",
       "    .dataframe tbody tr th {\n",
       "        vertical-align: top;\n",
       "    }\n",
       "\n",
       "    .dataframe thead th {\n",
       "        text-align: right;\n",
       "    }\n",
       "</style>\n",
       "<table border=\"1\" class=\"dataframe\">\n",
       "  <thead>\n",
       "    <tr style=\"text-align: right;\">\n",
       "      <th></th>\n",
       "      <th>ms_pk</th>\n",
       "      <th>comp_name</th>\n",
       "      <th>comp_fk</th>\n",
       "      <th>user_code</th>\n",
       "      <th>template_label</th>\n",
       "      <th>call_date</th>\n",
       "      <th>dependent_no</th>\n",
       "      <th>problem</th>\n",
       "      <th>sub_category</th>\n",
       "      <th>scheme_fk</th>\n",
       "    </tr>\n",
       "  </thead>\n",
       "  <tbody>\n",
       "    <tr>\n",
       "      <th>0</th>\n",
       "      <td>01690797</td>\n",
       "      <td>Jackpersad &amp; Partners</td>\n",
       "      <td>600404</td>\n",
       "      <td>masetshegob</td>\n",
       "      <td>Offsite Face to Face Counselling Form</td>\n",
       "      <td>2020-05-05</td>\n",
       "      <td>0</td>\n",
       "      <td>Stress</td>\n",
       "      <td>Eposodic Stress</td>\n",
       "      <td>126</td>\n",
       "    </tr>\n",
       "    <tr>\n",
       "      <th>1</th>\n",
       "      <td>01736993</td>\n",
       "      <td>AVBOB_Head Office</td>\n",
       "      <td>600509</td>\n",
       "      <td>thabilem</td>\n",
       "      <td>Telephonic Counselling Form</td>\n",
       "      <td>2020-12-17</td>\n",
       "      <td>0</td>\n",
       "      <td>Information</td>\n",
       "      <td>Service Enquiry</td>\n",
       "      <td>126</td>\n",
       "    </tr>\n",
       "    <tr>\n",
       "      <th>2</th>\n",
       "      <td>1640427</td>\n",
       "      <td>Capitec_BSC_Western Cape</td>\n",
       "      <td>600206</td>\n",
       "      <td>theoc</td>\n",
       "      <td>Telephonic Counselling Form</td>\n",
       "      <td>2020-03-10</td>\n",
       "      <td>0</td>\n",
       "      <td>Organisational</td>\n",
       "      <td>General Discontent</td>\n",
       "      <td>126</td>\n",
       "    </tr>\n",
       "    <tr>\n",
       "      <th>3</th>\n",
       "      <td>1531371</td>\n",
       "      <td>Capitec_BSC_Western Cape</td>\n",
       "      <td>600206</td>\n",
       "      <td>pollyt</td>\n",
       "      <td>Telephonic Counselling Form</td>\n",
       "      <td>2020-06-17</td>\n",
       "      <td>0</td>\n",
       "      <td>Suicide</td>\n",
       "      <td>Contemplated</td>\n",
       "      <td>126</td>\n",
       "    </tr>\n",
       "    <tr>\n",
       "      <th>4</th>\n",
       "      <td>511680</td>\n",
       "      <td>Dis-Chem_Direct Courier</td>\n",
       "      <td>101209</td>\n",
       "      <td>puseletsot</td>\n",
       "      <td>Telephonic Counselling Form</td>\n",
       "      <td>2020-05-18</td>\n",
       "      <td>0</td>\n",
       "      <td>Family care</td>\n",
       "      <td>Child Behavioural</td>\n",
       "      <td>108</td>\n",
       "    </tr>\n",
       "    <tr>\n",
       "      <th>5</th>\n",
       "      <td>1538479</td>\n",
       "      <td>Reutech Solutions</td>\n",
       "      <td>600043</td>\n",
       "      <td>ludemanc</td>\n",
       "      <td>Telephonic Counselling Form</td>\n",
       "      <td>2020-07-03</td>\n",
       "      <td>0</td>\n",
       "      <td>Information</td>\n",
       "      <td>Service Enquiry</td>\n",
       "      <td>126</td>\n",
       "    </tr>\n",
       "    <tr>\n",
       "      <th>6</th>\n",
       "      <td>1572771</td>\n",
       "      <td>Savino Del Bene SA_Johannesburg</td>\n",
       "      <td>600317</td>\n",
       "      <td>puseletsot</td>\n",
       "      <td>Offsite Face to Face Counselling Form</td>\n",
       "      <td>2019-10-31</td>\n",
       "      <td>0</td>\n",
       "      <td>Suicide</td>\n",
       "      <td>Attempted</td>\n",
       "      <td>126</td>\n",
       "    </tr>\n",
       "    <tr>\n",
       "      <th>7</th>\n",
       "      <td>1658066</td>\n",
       "      <td>Dis-Chem_Head Office Gauteng</td>\n",
       "      <td>101239</td>\n",
       "      <td>kefilwem</td>\n",
       "      <td>Telephonic Counselling Form</td>\n",
       "      <td>2020-04-06</td>\n",
       "      <td>0</td>\n",
       "      <td>Information</td>\n",
       "      <td>Resources</td>\n",
       "      <td>124</td>\n",
       "    </tr>\n",
       "    <tr>\n",
       "      <th>8</th>\n",
       "      <td>1529689</td>\n",
       "      <td>Capitec_Ops Branches_Free State</td>\n",
       "      <td>600209</td>\n",
       "      <td>tshkanim</td>\n",
       "      <td>Telephonic Counselling Form</td>\n",
       "      <td>2019-10-29</td>\n",
       "      <td>0</td>\n",
       "      <td>Relationship</td>\n",
       "      <td>Spouse/Partner</td>\n",
       "      <td>126</td>\n",
       "    </tr>\n",
       "    <tr>\n",
       "      <th>9</th>\n",
       "      <td>1612780</td>\n",
       "      <td>Iron Mountain Secure Shredding (Pty) Ltd</td>\n",
       "      <td>101089</td>\n",
       "      <td>nthabelengm</td>\n",
       "      <td>Telephonic Counselling Form</td>\n",
       "      <td>2020-08-04</td>\n",
       "      <td>0</td>\n",
       "      <td>Organisational</td>\n",
       "      <td>Abenteeism/Presenteeism</td>\n",
       "      <td>108</td>\n",
       "    </tr>\n",
       "  </tbody>\n",
       "</table>\n",
       "</div>"
      ],
      "text/plain": [
       "      ms_pk                                 comp_name comp_fk    user_code  \\\n",
       "0  01690797                     Jackpersad & Partners  600404  masetshegob   \n",
       "1  01736993                         AVBOB_Head Office  600509     thabilem   \n",
       "2   1640427                  Capitec_BSC_Western Cape  600206        theoc   \n",
       "3   1531371                  Capitec_BSC_Western Cape  600206       pollyt   \n",
       "4    511680                   Dis-Chem_Direct Courier  101209   puseletsot   \n",
       "5   1538479                         Reutech Solutions  600043     ludemanc   \n",
       "6   1572771           Savino Del Bene SA_Johannesburg  600317   puseletsot   \n",
       "7   1658066              Dis-Chem_Head Office Gauteng  101239     kefilwem   \n",
       "8   1529689           Capitec_Ops Branches_Free State  600209     tshkanim   \n",
       "9   1612780  Iron Mountain Secure Shredding (Pty) Ltd  101089  nthabelengm   \n",
       "\n",
       "                          template_label   call_date dependent_no  \\\n",
       "0  Offsite Face to Face Counselling Form  2020-05-05            0   \n",
       "1            Telephonic Counselling Form  2020-12-17            0   \n",
       "2            Telephonic Counselling Form  2020-03-10            0   \n",
       "3            Telephonic Counselling Form  2020-06-17            0   \n",
       "4            Telephonic Counselling Form  2020-05-18            0   \n",
       "5            Telephonic Counselling Form  2020-07-03            0   \n",
       "6  Offsite Face to Face Counselling Form  2019-10-31            0   \n",
       "7            Telephonic Counselling Form  2020-04-06            0   \n",
       "8            Telephonic Counselling Form  2019-10-29            0   \n",
       "9            Telephonic Counselling Form  2020-08-04            0   \n",
       "\n",
       "          problem             sub_category  scheme_fk  \n",
       "0          Stress          Eposodic Stress        126  \n",
       "1     Information          Service Enquiry        126  \n",
       "2  Organisational       General Discontent        126  \n",
       "3         Suicide             Contemplated        126  \n",
       "4     Family care        Child Behavioural        108  \n",
       "5     Information          Service Enquiry        126  \n",
       "6         Suicide                Attempted        126  \n",
       "7     Information                Resources        124  \n",
       "8    Relationship           Spouse/Partner        126  \n",
       "9  Organisational  Abenteeism/Presenteeism        108  "
      ]
     },
     "execution_count": 37,
     "metadata": {},
     "output_type": "execute_result"
    }
   ],
   "source": [
    "councelling_raw_2021_df"
   ]
  },
  {
   "cell_type": "code",
   "execution_count": 33,
   "metadata": {},
   "outputs": [],
   "source": [
    "conn_str = (\n",
    "    \"DRIVER={PostgreSQL ODBC Driver(UNICODE)};\"\n",
    "    \"DATABASE=kx_bi;\"\n",
    "    \"UID=postgres;\"\n",
    "    \"PWD=postgres;\"\n",
    "    \"SERVER=172.31.244.44;\"\n",
    "    \"PORT=5432;\"\n",
    "    )\n",
    "\n",
    "conn = p.connect(conn_str)"
   ]
  },
  {
   "cell_type": "code",
   "execution_count": 34,
   "metadata": {},
   "outputs": [],
   "source": [
    "query=\"\"\"\n",
    "select distinct\n",
    "ben.ms_pk\n",
    ",scheme_name\n",
    ",first_name\n",
    ",surname\n",
    ",gender\t\n",
    ",birth_date\n",
    ",main_email\t\n",
    ",main_work_tel\t\n",
    ",id_num \n",
    ",ben.dep_fk \n",
    ",ben.comp_name\n",
    ",mipst_dbo.tsf_ccm_template.template_label\t\n",
    ",mipst_dbo.tsf_ccm_template.template_description\n",
    ",user_code\n",
    ",replace(substring(call_start_datetime,1,10), '-','') as call_date \n",
    ",coalesce(g.comp_name,'none') as group_name\t\n",
    ",dep_type\n",
    ",ben.comp_fk\n",
    ",scheme_fk\n",
    "\n",
    "FROM mipst_dbo.tsf_ccm_template\n",
    "left join mipst_dbo.tsf_cct_call call ON call.template_obj = mipst_dbo.tsf_ccm_template.template_obj and call.status_key = 'cc_StCctcaComp' \n",
    "inner join mipst_dbo.tsd_cc_relationship real ON real.owning_obj::NUMERIC = call.call_obj\n",
    "and UPPER(owning_entity_mnemonic) = 'CCTCA'\n",
    "AND   UPPER(related_entity_mnemonic) in ('MEMBER','MEMDEP')\n",
    "inner join  mipbi_dbo.td_beneficiary ben ON ben.ms_pk = coalesce(nullif(split_part(related_key, '|',1), ''), '0') --and scheme_fk='126'\n",
    "and dep_fk::int\t=coalesce(nullif(split_part(related_key, '|',2), ''), '0')::int\n",
    "left join mipst_dbo.tsd_ben_memcom g  on  (case when ben.group_code='0' then ben.comp_fk else ben.group_code end)=g.comp_fk\n",
    "\"\"\""
   ]
  },
  {
   "cell_type": "code",
   "execution_count": 52,
   "metadata": {},
   "outputs": [
    {
     "data": {
      "text/plain": [
       "['ms_pk',\n",
       " 'scheme_name',\n",
       " 'first_name',\n",
       " 'surname',\n",
       " 'gender',\n",
       " 'birth_date',\n",
       " 'main_email',\n",
       " 'main_work_tel',\n",
       " 'id_num',\n",
       " 'dep_fk',\n",
       " 'comp_name',\n",
       " 'template_label',\n",
       " 'template_description',\n",
       " 'user_code',\n",
       " 'call_date',\n",
       " 'group_name',\n",
       " 'dep_type',\n",
       " 'comp_fk',\n",
       " 'scheme_fk']"
      ]
     },
     "execution_count": 52,
     "metadata": {},
     "output_type": "execute_result"
    }
   ],
   "source": [
    "list(cte_df)"
   ]
  },
  {
   "cell_type": "code",
   "execution_count": 53,
   "metadata": {},
   "outputs": [
    {
     "data": {
      "text/plain": [
       "{'AFMS Group',\n",
       " 'AGCO South Africa (Pty) Ltd',\n",
       " 'ALPLA Trading SA (Pty) Ltd',\n",
       " 'ANGLO',\n",
       " 'ARB Group',\n",
       " 'AT Kearney (Pty) Ltd',\n",
       " 'AVBOB Mutual Assurance Society',\n",
       " 'Adams & Adams',\n",
       " 'Aegis Outsourcing SA (Pty) Ltd',\n",
       " 'Affmed (Pty) Ltd',\n",
       " 'Africa Floorcare and Promop (Pty) Ltd',\n",
       " 'Africa Health Care',\n",
       " 'African Risk Capacity Insurance Company Limited',\n",
       " 'AfroCentric Health',\n",
       " 'Agristar Group',\n",
       " 'Airwise Air-Conditioning & Ventilation (Pty) Ltd',\n",
       " 'Amec Foster Wheeler',\n",
       " 'Amecor Management Services (Pty) Lt',\n",
       " 'Amecor Pty Ltd',\n",
       " 'Ampath Trust',\n",
       " 'Appsure Pty Ltd',\n",
       " 'Aquila Labour Brokers',\n",
       " 'Astral Operations Limited',\n",
       " 'Auram',\n",
       " 'Avon Justine (Pty) Ltd',\n",
       " 'BSC Holdings (Pty) Ltd',\n",
       " 'Bachique Group of Companies',\n",
       " 'Becton Dickinson Group',\n",
       " 'Bergman Ross and Partners INC',\n",
       " 'Beyond Zero',\n",
       " 'Bidvest Bank Limited',\n",
       " 'Bidvest Group',\n",
       " 'Big Five Duty Free',\n",
       " 'Bombela Operating Company',\n",
       " 'Boost Business Consulting',\n",
       " 'Booyco Electronics (Pty) Ltd',\n",
       " 'Bounty Management Services - Rieses',\n",
       " 'Bounty Management Services Pty Ltd',\n",
       " 'Burncrete',\n",
       " 'Bushveld Minerals',\n",
       " 'CIB Group',\n",
       " 'Calgro M3  Limited',\n",
       " 'Campari South Africa Pty Ltd',\n",
       " 'Canon SA',\n",
       " 'Capfin SA (Pty) Ltd',\n",
       " 'Capitec Bank Limited',\n",
       " 'Centlube',\n",
       " 'Centurion Systems',\n",
       " 'Chep',\n",
       " 'China Construction Bank',\n",
       " 'Clickatell (Pty) Ltd',\n",
       " 'Consumer Links SA',\n",
       " 'Cosmetix',\n",
       " 'Cox Yeats Attorneys',\n",
       " 'DCM Group of Companies',\n",
       " 'DHL Group',\n",
       " 'DPO SA',\n",
       " 'DSM Nutritional Products S A ( Pty) Ltd',\n",
       " 'Danone Southern Africa',\n",
       " 'Daybreak Farms (Pty) Ltd',\n",
       " 'Debtin Consultants (Pty) Ltd',\n",
       " 'Denel',\n",
       " 'Deutsche Securities (Pty) Ltd',\n",
       " 'Dimension Data',\n",
       " 'Dis-Chem Pharmacies',\n",
       " 'Doves Funeral Services',\n",
       " 'DriveRisk (Pty) Ltd',\n",
       " 'Dummy Lifestyle',\n",
       " 'Durban Marine Theme Park SOC Ltd',\n",
       " 'Dust - A - Side (Pty ) Ltd',\n",
       " 'EBJ Holdings',\n",
       " 'EIE Group',\n",
       " 'EOH',\n",
       " 'EQSTRA Fleet Management & Holdings',\n",
       " 'EXIM International (Pty) Ltd',\n",
       " 'EXL Service South Africa (Pty) Ltd',\n",
       " 'Eclipse Public Relations',\n",
       " 'Econamic (Pty) Ltd',\n",
       " 'Econorisk (Pty) Ltd',\n",
       " 'Elderberry Investments 35 (Pty) Ltd',\n",
       " 'Emerald Resort and Casino',\n",
       " 'Entelect Software (Pty) Ltd',\n",
       " 'Enviroserv Waste Mngmt (Pty) Ltd',\n",
       " 'Ernst & Young Services (Pty) Ltd',\n",
       " 'Ernst & Young Services Africa',\n",
       " 'Euro Chocolates cc',\n",
       " 'Express Warehousing (Luristax (Pty) Ltd)',\n",
       " 'FLEXICARE INDIVIDUAL MEMBERS',\n",
       " 'FLEXICARE PLUS INDIVIDUAL MEMBERS',\n",
       " 'FLSmidth (Pty) Ltd',\n",
       " 'FPM Group Holdings (Pty) Ltd',\n",
       " 'Falcorp Technologies (Pty) Ltd',\n",
       " 'Fasken Martineau',\n",
       " 'Fenner Conveyor Belting (Pty) Ltd',\n",
       " 'Ferro Group',\n",
       " 'Festo (Pty) Ltd',\n",
       " 'Flight Centre',\n",
       " 'Fluor South Africa (Pty) Ltd',\n",
       " 'Focus Group',\n",
       " 'Foghound Group',\n",
       " 'Fragomen Africa',\n",
       " 'Franklin Electric South Africa (Pty) Ltd',\n",
       " 'Frankwen Forge PTY Ltd',\n",
       " 'Freedom Technologies (Pty) Ltd',\n",
       " 'Froozel Food Products (Pty) Ltd',\n",
       " 'Futurum Financial Group (Pty) Ltd',\n",
       " 'Gauteng Education Department',\n",
       " 'Genesis Analytics',\n",
       " 'Gijima Holding (PTY) Ltd',\n",
       " 'Gijima Holdings (Pty) Ltd',\n",
       " 'Gold Fields Group',\n",
       " 'Golder Associates South Africa',\n",
       " 'Greystone Trading 703 cc',\n",
       " 'Grupo Antolin South Africa',\n",
       " 'HMH Group of Companies',\n",
       " 'HOSMED ESSENTIAL',\n",
       " 'Haefele Software Pty Ltd',\n",
       " 'Herbalife International South Africa',\n",
       " 'Hollard Life Assurance Company Limited',\n",
       " 'Homefind 24 Pty Ltd',\n",
       " 'Howden Africa Holdings',\n",
       " 'Hoya Hill Optics SA (Pty) Ltd',\n",
       " 'Hudaco',\n",
       " 'Hulamin Operations (Pty) Ltd',\n",
       " 'IDF Capital',\n",
       " 'ISASA',\n",
       " 'ISASA - St Johns',\n",
       " 'IWarshay Investments (Pty) Ltd t/a KWV',\n",
       " 'IWork Management PTY LTD',\n",
       " 'Independent Schools',\n",
       " 'Industro Process and Software Solutions',\n",
       " 'Institute of Insurance South Africa',\n",
       " 'Interbrand',\n",
       " 'International Flavors & Fragrances',\n",
       " 'Interwaste (Pty) Ltd',\n",
       " 'Iron Mountain SA',\n",
       " 'Italtile',\n",
       " 'IusPrudentia Specialist Counsel',\n",
       " 'Jackpersad & Partners',\n",
       " 'Jade E-Services South Africa T/A Zando',\n",
       " 'Jemstep Incorporated',\n",
       " 'John Deere (Pty) Ltd',\n",
       " 'Johnson Controls - York International',\n",
       " 'Jones & Wagener (Pty) Ltd',\n",
       " 'KEYHEALTH ORIGIN',\n",
       " 'KFC (Pty) Ltd',\n",
       " 'KFC Equity',\n",
       " 'KFC Yum',\n",
       " 'KGK Diamonds SA (Pty)Ltd',\n",
       " 'KPMG Services (Pty) Limited',\n",
       " 'Kaelo Simply Healthcare',\n",
       " 'KaeloXelus',\n",
       " 'Kagiso Media (Pty) Ltd',\n",
       " 'Kaizer Chiefs (Pty) Ltd',\n",
       " 'Kauai',\n",
       " 'Keitumetse & Associates',\n",
       " 'Kevro (Pty) Ltd T/A Barron',\n",
       " 'Kone South Africa',\n",
       " 'Krones Southern Africa (Pty) Ltd',\n",
       " 'Kuehne + Nagel Pty Ltd',\n",
       " 'LENMED GROUP',\n",
       " 'LIBERTY',\n",
       " 'LION HEALTH',\n",
       " 'Lafarge Industries South Africa (Pty) Ltd',\n",
       " 'Lake Smit & Partners',\n",
       " 'Legal Resources Centre',\n",
       " 'Levi Strauss South Africa',\n",
       " 'LexisNexis (Pty) Ltd',\n",
       " 'Lociware PTY LTD',\n",
       " 'M2TD Consulting (Pty) Ltd',\n",
       " 'MH CORE 1',\n",
       " 'MH PLUS 1',\n",
       " 'MH PLUS 2',\n",
       " 'MSA DEVCO (Pty) Ltd trading as McDonalds SA',\n",
       " 'MYHEALTH GUARDIAN',\n",
       " 'Madini Mining (Pty) Ltd',\n",
       " 'Malesela Taihan Electric Cable (Pty) Ltd',\n",
       " 'Master Drilling Group (Pty) Ltd',\n",
       " 'MatCH',\n",
       " 'Matus',\n",
       " 'McCormick South Africa (Pty) Ltd',\n",
       " 'McDonalds - Arno Bakkes',\n",
       " 'McDonalds - Auram Restaurants Company (Pty) Ltd',\n",
       " 'McDonalds SA_Dhans Field QST (Pty) Ltd',\n",
       " 'McDonalds SA_Jasmac CC',\n",
       " 'McDonalds SA_MSA Devco_Head Office',\n",
       " 'Merchants SA (Proprietary) Limited',\n",
       " 'Merchants SA (Pty) Ltd',\n",
       " 'Merchants iiNet',\n",
       " 'Michelin',\n",
       " 'Mimecast South Africa (Pty) Ltd',\n",
       " 'Mindpearl South Africa Pty Ltd',\n",
       " 'Moir Company',\n",
       " 'Monsanto SA (Pty) Ltd',\n",
       " 'Mr Price Money',\n",
       " 'Munich Reinsurance Company of Africa Ltd',\n",
       " 'Mustek Group',\n",
       " 'NMG Benefits',\n",
       " 'NTC Logistics',\n",
       " \"Nando's\",\n",
       " 'Naspers Group',\n",
       " 'Naspers Labs NPC',\n",
       " 'National Ceramic Industries SA (Pty) Ltd',\n",
       " 'National Edging',\n",
       " 'National Empowerment Fund',\n",
       " 'National Home Builders Reg Council',\n",
       " 'Neopak Holdings (Pty) Ltd',\n",
       " 'Ngubane & Co.',\n",
       " 'Ocean View Fishing CC',\n",
       " 'Oceana Group',\n",
       " 'Oppenheimer Generations SA(Pty)Ltd',\n",
       " 'Opti-Baby',\n",
       " 'PPD South Africa (Pty) Ltd',\n",
       " 'PR CORE 1',\n",
       " 'Pamodzi Unique Engineering',\n",
       " 'Penguin Random House South Africa (Pty) Ltd',\n",
       " 'Plumblink SA (Pty) Ltd',\n",
       " 'Polmed',\n",
       " 'Provimi SSA (Pty) Ltd / Cargill',\n",
       " 'RCI',\n",
       " 'RCS Cards (Pty) Ltd',\n",
       " 'RH Bophelo Ltd.',\n",
       " 'Rectron',\n",
       " 'Redefine Properties Limited',\n",
       " 'Remote Metering Solutions (Pty) Ltd',\n",
       " 'Retail Capital (Pty)Ltd',\n",
       " 'Reunert Limited',\n",
       " 'Rhino Energy Solutions (Pty) Ltd',\n",
       " 'Ricoh SA (Pty) Ltd',\n",
       " 'Rossmin Group',\n",
       " 'Royale Energy Group PTY Ltd',\n",
       " 'SMEC Group',\n",
       " 'SUREMED EXPLOR',\n",
       " 'Saint Gobain Construction Products (Pty) Ltd',\n",
       " 'Salvage Management and Disposals PTY Ltd',\n",
       " 'Sanlam Individual',\n",
       " 'Sanlam Life Insurance Ltd',\n",
       " 'Santam Limited',\n",
       " 'Sasfin Bank Limited',\n",
       " 'Sasria SOC Limited',\n",
       " 'Savino Del Bene SA Pty Ltd',\n",
       " 'Schenker SA',\n",
       " 'Schindler Lifts (SA) (Pty) Ltd',\n",
       " 'Schindlers Attorneys',\n",
       " 'Sectional Title Solutions',\n",
       " 'Segen Solar (Pty) Ltd',\n",
       " 'Smollan',\n",
       " 'Sodexo Southern Africa (Pty) Ltd',\n",
       " 'Soillab (Pty) Ltd',\n",
       " 'SoulProviders Collective',\n",
       " 'South African Council for the Architectural Profes',\n",
       " 'Specialised Road Technologies',\n",
       " 'St Stithians College',\n",
       " 'Ster-Kinekor Theatres (Pty) Ltd',\n",
       " 'Stryker South Africa Pty Ltd',\n",
       " 'Sun Chemical South Africa (Pty) Ltd',\n",
       " 'Sun International',\n",
       " 'Suremed Shuttle',\n",
       " 'Swissport SA',\n",
       " 'Syntell Group',\n",
       " 'Sysmex SA (Pty) Ltd',\n",
       " 'TC Group',\n",
       " 'TC Group - SA Taxi Development Finance',\n",
       " 'THLAK BASIC',\n",
       " 'THLAK COMP',\n",
       " 'THLAK LEGA',\n",
       " 'THLAK MBD',\n",
       " 'THLAK MBP',\n",
       " 'TP South Africa Trading (Pty) Ltd',\n",
       " 'Talksure Trading (Pty) Ltd',\n",
       " 'Tau Phola (Pty) Ltd',\n",
       " 'Teraco Data Environments',\n",
       " 'The Arch Hotel (Pty)Ltd',\n",
       " 'The Arch Hotel(Pty)Ltd',\n",
       " 'The BankSETA',\n",
       " 'The Core Computer Business',\n",
       " 'The Forum Company',\n",
       " 'The Golfers Club (Pty) Ltd',\n",
       " 'Tial Technologies (Pty) Ltd',\n",
       " 'Trafigura Group',\n",
       " 'Tshwane Rapid Transit (Pty) Ltd',\n",
       " 'Twinsavers',\n",
       " 'Unit IT (PTY) Ltd',\n",
       " 'United Herzlia Schools',\n",
       " 'Universal Music (Pty) Ltd',\n",
       " 'University of Cape Town',\n",
       " 'University of the Witwatersrand',\n",
       " 'VKB Agriculture',\n",
       " 'VKB Group',\n",
       " 'Vergenoegd Wine Estate (Pty) Ltd',\n",
       " 'Virgin Active SA (Pty) Ltd',\n",
       " 'Visual Impact Broadcast Solutions (Pty) Ltd',\n",
       " 'Vunani Fund Managers (Pty) Ltd',\n",
       " 'WNS Global Services SA (Pty)Ltd',\n",
       " 'WSP Group (Pty) Ltd',\n",
       " 'Wallenius Wilhelmsen Solutions (Pty) Ltd',\n",
       " 'Webhelp',\n",
       " 'WestconGroup SA (Pty) Ltd',\n",
       " 'Wits Health Consortium',\n",
       " 'Wonga',\n",
       " 'World Vision South Africa',\n",
       " 'YeboTech (Pty) Ltd',\n",
       " 'eAdvance (Pty) Ltd T/A SPARK Schools',\n",
       " 'none'}"
      ]
     },
     "execution_count": 53,
     "metadata": {},
     "output_type": "execute_result"
    }
   ],
   "source": [
    "set(cte_df.group_name)"
   ]
  },
  {
   "cell_type": "code",
   "execution_count": 55,
   "metadata": {},
   "outputs": [],
   "source": [
    "capitec_df=cte_df[cte_df.group_name=='Capitec Bank Limited']"
   ]
  },
  {
   "cell_type": "code",
   "execution_count": 56,
   "metadata": {},
   "outputs": [],
   "source": [
    "capitec_df.to_csv(path_or_buf='C:\\\\Users\\\\christo.strydom\\\\github_repos\\\\EAP\\\\data\\\\capitec_test.csv', sep=',',index=False)"
   ]
  },
  {
   "cell_type": "code",
   "execution_count": 35,
   "metadata": {},
   "outputs": [],
   "source": [
    "cte_df=pd.read_sql(query,conn)"
   ]
  },
  {
   "cell_type": "code",
   "execution_count": null,
   "metadata": {},
   "outputs": [],
   "source": [
    "limit10_fn(conn,table_name=\"tsf_ccm_template\")"
   ]
  },
  {
   "cell_type": "code",
   "execution_count": 5,
   "metadata": {},
   "outputs": [],
   "source": [
    "tsf_ccm_template_query=\"\"\"select *\n",
    "from mipst_dbo.tsf_ccm_template\n",
    "limit 10\"\"\"\n",
    "tsf_ccm_template_df=pd.read_sql(tsf_ccm_template_query,conn)"
   ]
  },
  {
   "cell_type": "code",
   "execution_count": 7,
   "metadata": {},
   "outputs": [],
   "source": [
    "tsf_cct_call_query=\"\"\"select *\n",
    "from mipst_dbo.tsf_cct_call\n",
    "limit 10\"\"\"\n",
    "tsf_cct_call_df=pd.read_sql(tsf_cct_call_query,conn)"
   ]
  },
  {
   "cell_type": "code",
   "execution_count": null,
   "metadata": {},
   "outputs": [],
   "source": [
    "tsf_ccm_template_query=\"\"\"select *\n",
    "from mipst_dbo.tsf_ccm_template\n",
    "limit 10\"\"\"\n",
    "tsf_ccm_template_df=pd.read_sql(tsf_ccm_template_query,conn)"
   ]
  },
  {
   "cell_type": "code",
   "execution_count": null,
   "metadata": {},
   "outputs": [],
   "source": [
    "tsf_ccm_template_query=\"\"\"select *\n",
    "from mipst_dbo.tsf_ccm_template\n",
    "limit 10\"\"\"\n",
    "tsf_ccm_template_df=pd.read_sql(tsf_ccm_template_query,conn)"
   ]
  },
  {
   "cell_type": "code",
   "execution_count": null,
   "metadata": {},
   "outputs": [],
   "source": [
    "tsf_ccm_template_query=\"\"\"select *\n",
    "from mipst_dbo.tsf_ccm_template\n",
    "limit 10\"\"\"\n",
    "tsf_ccm_template_df=pd.read_sql(tsf_ccm_template_query,conn)"
   ]
  },
  {
   "cell_type": "code",
   "execution_count": 6,
   "metadata": {},
   "outputs": [
    {
     "data": {
      "text/html": [
       "<div>\n",
       "<style scoped>\n",
       "    .dataframe tbody tr th:only-of-type {\n",
       "        vertical-align: middle;\n",
       "    }\n",
       "\n",
       "    .dataframe tbody tr th {\n",
       "        vertical-align: top;\n",
       "    }\n",
       "\n",
       "    .dataframe thead th {\n",
       "        text-align: right;\n",
       "    }\n",
       "</style>\n",
       "<table border=\"1\" class=\"dataframe\">\n",
       "  <thead>\n",
       "    <tr style=\"text-align: right;\">\n",
       "      <th></th>\n",
       "      <th>template_obj</th>\n",
       "      <th>status_key</th>\n",
       "      <th>category_key</th>\n",
       "      <th>object_obj</th>\n",
       "      <th>template_code</th>\n",
       "      <th>template_label</th>\n",
       "      <th>template_description</th>\n",
       "      <th>template_field_namelist</th>\n",
       "      <th>template_field_attriblist</th>\n",
       "      <th>last_modified_datetime</th>\n",
       "    </tr>\n",
       "  </thead>\n",
       "  <tbody>\n",
       "    <tr>\n",
       "      <th>0</th>\n",
       "      <td>1001440.0</td>\n",
       "      <td>cc_StCcmtmDis</td>\n",
       "      <td>ma_TmplMemberQry</td>\n",
       "      <td>0.0</td>\n",
       "      <td>ma_TmplMemberReqAuth</td>\n",
       "      <td>Member Authorisation Request</td>\n",
       "      <td>Member Authorisation Request</td>\n",
       "      <td>None</td>\n",
       "      <td>None</td>\n",
       "      <td>2014-08-22 20:46:44:481 + 02:00</td>\n",
       "    </tr>\n",
       "    <tr>\n",
       "      <th>1</th>\n",
       "      <td>1001443.0</td>\n",
       "      <td>cc_StCcmtmDis</td>\n",
       "      <td>ma_TmplMemberQry</td>\n",
       "      <td>0.0</td>\n",
       "      <td>ma_TmplMemberChrQry</td>\n",
       "      <td>Member Chronic Query</td>\n",
       "      <td>Member Chronic Query</td>\n",
       "      <td>None</td>\n",
       "      <td>None</td>\n",
       "      <td>2014-08-22 20:46:44:481 + 02:00</td>\n",
       "    </tr>\n",
       "    <tr>\n",
       "      <th>2</th>\n",
       "      <td>1001448.0</td>\n",
       "      <td>cc_StCcmtmAct</td>\n",
       "      <td>ma_TmplMemberQry</td>\n",
       "      <td>23417501.0</td>\n",
       "      <td>ma_MemberClaims</td>\n",
       "      <td>Member Claims Query</td>\n",
       "      <td>Member Claims Query</td>\n",
       "      <td>None</td>\n",
       "      <td>None</td>\n",
       "      <td>2017-06-14 14:06:50:939 + 02:00</td>\n",
       "    </tr>\n",
       "    <tr>\n",
       "      <th>3</th>\n",
       "      <td>1001464.0</td>\n",
       "      <td>cc_StCcmtmDis</td>\n",
       "      <td>ma_TmplGeneralEny</td>\n",
       "      <td>0.0</td>\n",
       "      <td>ma_GeneralEnquiry</td>\n",
       "      <td>General Query</td>\n",
       "      <td>General Query</td>\n",
       "      <td>None</td>\n",
       "      <td>None</td>\n",
       "      <td>2014-08-22 20:46:44:481 + 02:00</td>\n",
       "    </tr>\n",
       "    <tr>\n",
       "      <th>4</th>\n",
       "      <td>1001475.0</td>\n",
       "      <td>cc_StCcmtmDis</td>\n",
       "      <td>ma_TmplMemberQry</td>\n",
       "      <td>0.0</td>\n",
       "      <td>ma_TmplMemberAuthQry</td>\n",
       "      <td>Member Authorisation Query</td>\n",
       "      <td>Member Authorisation Query</td>\n",
       "      <td>None</td>\n",
       "      <td>None</td>\n",
       "      <td>2014-08-22 20:46:44:481 + 02:00</td>\n",
       "    </tr>\n",
       "    <tr>\n",
       "      <th>5</th>\n",
       "      <td>1001617.0</td>\n",
       "      <td>cc_StCcmtmDis</td>\n",
       "      <td>ma_TmplServiceProvQry</td>\n",
       "      <td>0.0</td>\n",
       "      <td>ma_ServiceProvAuth</td>\n",
       "      <td>Service Provider Authorisation</td>\n",
       "      <td>Service Provider Authorisation</td>\n",
       "      <td>None</td>\n",
       "      <td>None</td>\n",
       "      <td>2014-08-22 20:46:44:481 + 02:00</td>\n",
       "    </tr>\n",
       "    <tr>\n",
       "      <th>6</th>\n",
       "      <td>1004837.0</td>\n",
       "      <td>cc_StCcmtmDis</td>\n",
       "      <td>ma_TmplMemberQry</td>\n",
       "      <td>0.0</td>\n",
       "      <td>ma_TmplMemberGenQry</td>\n",
       "      <td>Member General Enquiry</td>\n",
       "      <td>Member General Enquiry</td>\n",
       "      <td>None</td>\n",
       "      <td>None</td>\n",
       "      <td>2014-08-22 20:46:44:481 + 02:00</td>\n",
       "    </tr>\n",
       "    <tr>\n",
       "      <th>7</th>\n",
       "      <td>1288107.0</td>\n",
       "      <td>cc_StCcmtmDis</td>\n",
       "      <td>ma_TmplMarketingQry</td>\n",
       "      <td>0.0</td>\n",
       "      <td>ma_TmplMarketingPaidQry</td>\n",
       "      <td>Paid</td>\n",
       "      <td>Paid Claims</td>\n",
       "      <td>None</td>\n",
       "      <td>None</td>\n",
       "      <td>2014-08-22 20:46:44:481 + 02:00</td>\n",
       "    </tr>\n",
       "    <tr>\n",
       "      <th>8</th>\n",
       "      <td>1288132.0</td>\n",
       "      <td>cc_StCcmtmDis</td>\n",
       "      <td>ma_TmplMarketingQry</td>\n",
       "      <td>0.0</td>\n",
       "      <td>ma_TmplMarketingIncorRejectQry</td>\n",
       "      <td>Incorrect Rejection</td>\n",
       "      <td>Incorrect Rejection</td>\n",
       "      <td>None</td>\n",
       "      <td>None</td>\n",
       "      <td>2014-08-22 20:46:44:481 + 02:00</td>\n",
       "    </tr>\n",
       "    <tr>\n",
       "      <th>9</th>\n",
       "      <td>1288182.0</td>\n",
       "      <td>cc_StCcmtmDis</td>\n",
       "      <td>ma_TmplMarketingQry</td>\n",
       "      <td>0.0</td>\n",
       "      <td>ma_TmplMarketingAuthReqQry</td>\n",
       "      <td>Authorisation Required</td>\n",
       "      <td>Authorisation Required</td>\n",
       "      <td>None</td>\n",
       "      <td>None</td>\n",
       "      <td>2014-08-22 20:46:44:481 + 02:00</td>\n",
       "    </tr>\n",
       "  </tbody>\n",
       "</table>\n",
       "</div>"
      ],
      "text/plain": [
       "   template_obj     status_key           category_key  object_obj  \\\n",
       "0     1001440.0  cc_StCcmtmDis       ma_TmplMemberQry         0.0   \n",
       "1     1001443.0  cc_StCcmtmDis       ma_TmplMemberQry         0.0   \n",
       "2     1001448.0  cc_StCcmtmAct       ma_TmplMemberQry  23417501.0   \n",
       "3     1001464.0  cc_StCcmtmDis      ma_TmplGeneralEny         0.0   \n",
       "4     1001475.0  cc_StCcmtmDis       ma_TmplMemberQry         0.0   \n",
       "5     1001617.0  cc_StCcmtmDis  ma_TmplServiceProvQry         0.0   \n",
       "6     1004837.0  cc_StCcmtmDis       ma_TmplMemberQry         0.0   \n",
       "7     1288107.0  cc_StCcmtmDis    ma_TmplMarketingQry         0.0   \n",
       "8     1288132.0  cc_StCcmtmDis    ma_TmplMarketingQry         0.0   \n",
       "9     1288182.0  cc_StCcmtmDis    ma_TmplMarketingQry         0.0   \n",
       "\n",
       "                    template_code                  template_label  \\\n",
       "0            ma_TmplMemberReqAuth    Member Authorisation Request   \n",
       "1             ma_TmplMemberChrQry            Member Chronic Query   \n",
       "2                 ma_MemberClaims             Member Claims Query   \n",
       "3               ma_GeneralEnquiry                   General Query   \n",
       "4            ma_TmplMemberAuthQry      Member Authorisation Query   \n",
       "5              ma_ServiceProvAuth  Service Provider Authorisation   \n",
       "6             ma_TmplMemberGenQry          Member General Enquiry   \n",
       "7         ma_TmplMarketingPaidQry                            Paid   \n",
       "8  ma_TmplMarketingIncorRejectQry             Incorrect Rejection   \n",
       "9      ma_TmplMarketingAuthReqQry          Authorisation Required   \n",
       "\n",
       "             template_description template_field_namelist  \\\n",
       "0    Member Authorisation Request                    None   \n",
       "1            Member Chronic Query                    None   \n",
       "2             Member Claims Query                    None   \n",
       "3                   General Query                    None   \n",
       "4      Member Authorisation Query                    None   \n",
       "5  Service Provider Authorisation                    None   \n",
       "6          Member General Enquiry                    None   \n",
       "7                     Paid Claims                    None   \n",
       "8             Incorrect Rejection                    None   \n",
       "9          Authorisation Required                    None   \n",
       "\n",
       "  template_field_attriblist           last_modified_datetime  \n",
       "0                      None  2014-08-22 20:46:44:481 + 02:00  \n",
       "1                      None  2014-08-22 20:46:44:481 + 02:00  \n",
       "2                      None  2017-06-14 14:06:50:939 + 02:00  \n",
       "3                      None  2014-08-22 20:46:44:481 + 02:00  \n",
       "4                      None  2014-08-22 20:46:44:481 + 02:00  \n",
       "5                      None  2014-08-22 20:46:44:481 + 02:00  \n",
       "6                      None  2014-08-22 20:46:44:481 + 02:00  \n",
       "7                      None  2014-08-22 20:46:44:481 + 02:00  \n",
       "8                      None  2014-08-22 20:46:44:481 + 02:00  \n",
       "9                      None  2014-08-22 20:46:44:481 + 02:00  "
      ]
     },
     "execution_count": 6,
     "metadata": {},
     "output_type": "execute_result"
    }
   ],
   "source": [
    "tsf_ccm_template_df"
   ]
  },
  {
   "cell_type": "markdown",
   "metadata": {},
   "source": [
    "***\n",
    "Use driver __SQL Server__ and access the __master db__ on MIP __kx-jhb-sql\\sql01__ server"
   ]
  },
  {
   "cell_type": "code",
   "execution_count": null,
   "metadata": {},
   "outputs": [],
   "source": [
    "conn_str = (\n",
    "    r'Driver={SQL Server};'\n",
    "    r'Server=kx-jhb-sql\\sql01;'\n",
    "    r'Database=master;'\n",
    "    r'Trusted_Connection=yes;'\n",
    "    )\n",
    "cnxn = p.connect(conn_str)"
   ]
  },
  {
   "cell_type": "markdown",
   "metadata": {},
   "source": [
    "Define the sql script:"
   ]
  },
  {
   "cell_type": "code",
   "execution_count": null,
   "metadata": {},
   "outputs": [],
   "source": [
    "sql_str=\"\"\"SELECT policyNumber, PolicyJoinDate, PolicyExitDate, ClaimID, Link, PatientSurname, PatientName, PatientIDnr, PatientGender, Product, Hospital, PatientRelationship, ProviderType, AdmissionDate, DischargeDate, ClaimIllness, ClaimProcedure, Surgeon, PracticeNr, ClaimCaptureDate, ClaimProcessDate, ClaimAuthDate, ClaimPayDate, Cftotalclaim, CFTotalCharge, CFTotalPaid, CFTotalMsb, Icdcode, ICDShort, ICDDesription, ChronicIndicator, ICDChapter, MemberName, MemberSurname, DateOfBirth, IDNumber, CellPhoneNumber, MemberEmailAddress, PhysicalAddressLine1, PhysicalAddressLine2, PhysicalAddressLine3, PhysicalPostcode, PostalAddressLine1, PostalAddressLine2, PostalAddressLine3, PostalPostalCode, ClaimStatus, ClaimStatusDesc, RejectionReason, DiagnosisCategory, InsurerCompanyName, IBNR, FamilyBooster, HospitalBooster, CoPayment, DeathBenefit, SubLimit, TarrifShortfalls, GroupType, PayMonth, IncurredMonth, PolicyMonth, MonthsBetween, IBNRClaims, IncurredDateFinal, ProcessDateFinal, PayDateFinal, IncurredToCaptured, CapturedToProcessed, ProcessedToPaid, insert_dt, Broker, comp_code, Company, Other, ClaimNumber, Claim_Code, Claim_Description, MasterCompany, Customer_ID\n",
    "FROM AnalyticsAndReports.dbo.AgilityClaimsHistory;\"\"\""
   ]
  },
  {
   "cell_type": "markdown",
   "metadata": {},
   "source": [
    "Connect:"
   ]
  },
  {
   "cell_type": "code",
   "execution_count": null,
   "metadata": {},
   "outputs": [],
   "source": [
    "cursor = cnxn.cursor()\n",
    "# cursor.execute(sql_str)"
   ]
  },
  {
   "cell_type": "markdown",
   "metadata": {},
   "source": [
    "Return data in to pandas dataframe:"
   ]
  },
  {
   "cell_type": "code",
   "execution_count": null,
   "metadata": {},
   "outputs": [],
   "source": [
    "AgilityClaimsHistory_df = pd.read_sql(sql_str,cnxn)"
   ]
  },
  {
   "cell_type": "code",
   "execution_count": null,
   "metadata": {},
   "outputs": [],
   "source": [
    "AgilityClaimsHistory_df"
   ]
  },
  {
   "cell_type": "code",
   "execution_count": null,
   "metadata": {},
   "outputs": [],
   "source": [
    "cursor.close()\n",
    "# cnxn.close()"
   ]
  },
  {
   "cell_type": "code",
   "execution_count": null,
   "metadata": {},
   "outputs": [],
   "source": [
    "list(AgilityClaimsHistory_df)"
   ]
  },
  {
   "cell_type": "code",
   "execution_count": null,
   "metadata": {},
   "outputs": [],
   "source": [
    "sql_query=\"\"\"SELECT  \n",
    "case when \"mem-num\" is null then 'N' else 'Y' end as \"Registered Chronic\",\n",
    "c.scheme_fk,\n",
    "scheme_name, \n",
    "ms_fk,\n",
    " c.dep_fk as dependent_no,\n",
    "upper(dep_type) as dep_type,\n",
    "gender,\n",
    "b.first_name,\n",
    "b.surname,\n",
    "birth_date,\n",
    " claim_fk,\n",
    " claim_date,\n",
    " pr_fk as practice_no,\n",
    "pr_descr as doctor_name,\n",
    " pr_type,\n",
    "pr_type_descr, \n",
    "pr_group_descr,\n",
    " tariff_fk, \n",
    "claim_type, \n",
    "c.claim_code,\n",
    "description as claim_code_description,\n",
    "icd10_fk,\n",
    "icd10_descr,\n",
    " three_letter_level as icd10_group_description,\n",
    " auth_fk, \n",
    "units, \n",
    "pmb, \n",
    "(Case WHEN c.claim_code = 'K' THEN 'Y' \n",
    "\t\tWHEN c.claim_code IN ('C','P') AND c.claim_code = '80' THEN 'Y' \n",
    "\t\tWHEN pr_type = '62' AND c.claim_code = '31' THEN 'Y'\n",
    "\t\tWHEN pr_type IN ('87','88','90') THEN 'Y'\n",
    "\t\tELSE 'N' \n",
    "\tEND) as In_Hospital_Indicator,\n",
    "\n",
    "claimed_amount, \n",
    "benefit_amount,\n",
    "(case when (claimed_amount > 0 AND benefit_amount = 0) and paid_date is not null then 'Rejected' else\n",
    "case when ((claimed_amount > 0 AND benefit_amount > 0)) and paid_date is not null then 'Paid' else\n",
    "case when claimed_amount> 0 and benefit_amount > 0  and paid_date is null and assess_date is not null then 'Pending' else 'Unpaid' end end end ) as \"ClaimsStatus\",\n",
    "rcvd_date,\n",
    "assess_date, \n",
    "paid_date,\n",
    "tariff_amount,\n",
    " discount,\n",
    "owes, \n",
    "override,\n",
    " gen_no,\n",
    " suspend_until,\n",
    " suspended,\n",
    " assessed_datetime,\n",
    "b.comp_fk,\n",
    "b.comp_name ,\n",
    "coalesce(g.comp_name,'none') as group_name,\n",
    "broker_fk,\n",
    "broker_descr\n",
    "\n",
    "\tFROM mipbi_dbo.tf_claim_head_curr c\n",
    "\tleft join mipst_dbo.tsd_ccdesc cc on c.claim_code=cc.claim_code and scheme_fk=scheme_code::int\n",
    "\tleft join mipst_dbo.tsd_icd10 on icd10_fk=icd10_pk \n",
    "\tleft join mipst_dbo.tsd_practice on pr_fk=pr_pk\n",
    "\tleft join mipst_dbo.tsd_provider on pr_type_pk=pr_type\n",
    "\tinner join mipbi_dbo.td_beneficiary b on ms_pk=ms_fk and b.scheme_fk=c.scheme_fk and b.dep_fk=c.dep_fk\n",
    "                 left join mipst_dbo.tsd_ben_memcom g  on  (case when b.group_code='0' then b.comp_fk else b.group_code end)=g.comp_fk\n",
    "                 left join mipst_dbo.tsd_broker on broker_pk=broker_fk\n",
    "                 left join (select distinct\n",
    "\"mem-num\",\n",
    "dependant\n",
    "from\n",
    "mipst_dbo.tsd_depcond A\n",
    "inner JOIN\n",
    "mipst_dbo.tsd_condition_3 B on (A.\"cond-code\" = B.cond_fk)\n",
    "where\n",
    "cdl_fk is not null\n",
    "and \"reference-auth-num\" <> ''\n",
    "and cdl_fk <> '' AND cond_descr <> ''\n",
    "group by\n",
    "\"mem-num\",\n",
    "dependant) a on \"mem-num\"=ms_fk and\n",
    "dependant=c.dep_fk\n",
    "\twhere claim_date>=20200101 --and ms_fk='026927';\"\"\""
   ]
  },
  {
   "cell_type": "code",
   "execution_count": null,
   "metadata": {},
   "outputs": [],
   "source": [
    "AgilityClaimsHistory_df = pd.read_sql(sql_query,cnxn)"
   ]
  },
  {
   "cell_type": "code",
   "execution_count": null,
   "metadata": {},
   "outputs": [],
   "source": [
    "server = 'kx-jhb-sql\\\\sql01' \n",
    "database = 'AnalyticsAndReports' \n",
    "username = 'kaelojhb\\\\christo.strydom' \n",
    "password = 'Twenty23' \n",
    "cnxn = p.connect('DRIVER={SQL Server};SERVER='+server+';DATABASE='+database+';UID='+username+';PWD='+ password)\n",
    "cursor = cnxn.cursor()"
   ]
  },
  {
   "cell_type": "code",
   "execution_count": null,
   "metadata": {},
   "outputs": [],
   "source": [
    "sql_query=\"\"\"select * from \n",
    "(\n",
    "with cte as (\n",
    "select distinct\n",
    "ben.ms_pk\n",
    ",scheme_name\n",
    ",first_name\n",
    ",surname\n",
    ",gender\t\n",
    ",birth_date\n",
    ",main_email\t\n",
    ",main_work_tel\t\n",
    ",id_num \n",
    ",ben.dep_fk \n",
    ",ben.comp_name\n",
    ",mipst_dbo.tsf_ccm_template.template_label\t\n",
    ",mipst_dbo.tsf_ccm_template.template_description\n",
    ",user_code\n",
    ",replace(substring(call_start_datetime,1,10), '-','') as call_date \n",
    ",coalesce(g.comp_name,'none') as group_name\t\n",
    ",dep_type\n",
    ",ben.comp_fk\n",
    ",scheme_fk\n",
    "\n",
    "FROM mipst_dbo.tsf_ccm_template\n",
    "left join mipst_dbo.tsf_cct_call call ON call.template_obj = mipst_dbo.tsf_ccm_template.template_obj and call.status_key = 'cc_StCctcaComp' \n",
    "inner join mipst_dbo.tsd_cc_relationship real ON real.owning_obj::NUMERIC = call.call_obj\n",
    "and UPPER(owning_entity_mnemonic) = 'CCTCA'\n",
    "AND   UPPER(related_entity_mnemonic) in ('MEMBER','MEMDEP')\n",
    "inner join  mipbi_dbo.td_beneficiary ben ON ben.ms_pk = coalesce(nullif(split_part(related_key, '|',1), ''), '0') --and scheme_fk='126'\n",
    "and dep_fk::int\t=coalesce(nullif(split_part(related_key, '|',2), ''), '0')::int\n",
    "left join mipst_dbo.tsd_ben_memcom g  on  (case when ben.group_code='0' then ben.comp_fk else ben.group_code end)=g.comp_fk\n",
    ") select cte.ms_pk\n",
    ",scheme_name\n",
    ",first_name\n",
    ",surname\n",
    ",gender\t\n",
    ",birth_date\n",
    ",main_email\t\n",
    ",main_work_tel\t\n",
    ",id_num as identity_number \n",
    ",dep_fk as dependent_no\n",
    ",dep_type\n",
    ",cte.comp_name as companyname\n",
    ", group_name\n",
    ",cte.template_label\t\n",
    ",cte.template_description\n",
    ",cte.user_code\n",
    ", cte.call_date::varchar::date as call_date \n",
    ", array_to_string(array_agg(distinct (coalesce((c.Problem||'-'||c.sub_category),'') ||','||coalesce(l.Problem ,'')||','||coalesce(f.Problem ,''))),',') as Problem_name\n",
    "from cte \n",
    "INNER JOIN \n",
    "mipst_dbo.tsd_dates on mipst_dbo.tsd_dates.date_pk::VARCHAR =call_date \n",
    "left join \n",
    "mipst_dbo.legal_raw_2021 l on cte.ms_pk=l.ms_pk and cte.dep_fk=l.dependent_no::int and  cte.call_date::varchar::date =l.call_date and cte.template_label=l.template_label and cte.comp_name=l.comp_name \n",
    "\t\t\t\t  and  cte.scheme_fk=l.scheme_fk and cte.user_code=l.user_code  left join\n",
    "mipst_dbo.councelling_raw_2021 c on cte.ms_pk=c.ms_pk and cte.dep_fk=c.dependent_no::int and  cte.call_date::varchar::date =c.call_date and cte.template_label=c.template_label and cte.comp_name=c.comp_name \t\t\t \n",
    "and  cte.scheme_fk=c.scheme_fk and cte.user_code=c.user_code  left join\n",
    "mipst_dbo.financial_raw_2021 f on cte.ms_pk=f.ms_pk and cte.dep_fk=f.dependent_no::int and  cte.call_date::varchar::date =f.call_date and cte.template_label=f.template_label and cte.comp_name=f.comp_name \t\t\t \n",
    "and  cte.scheme_fk=f.scheme_fk and cte.user_code=f.user_code  \n",
    "group by cte.ms_pk\n",
    ",scheme_name\n",
    ",first_name\n",
    ",surname\n",
    ",gender\t\n",
    ",birth_date\n",
    ",main_email\t\n",
    ",main_work_tel\t\n",
    ",id_num  \n",
    ",dep_fk\n",
    ",dep_type\t\t\t\t  \n",
    ",cte.comp_name \n",
    ", group_name\n",
    ",cte.template_label\t\n",
    ",cte.template_description\n",
    ",cte.user_code\n",
    ", cte.call_date::varchar::date \n",
    ") a\"\"\""
   ]
  },
  {
   "cell_type": "code",
   "execution_count": null,
   "metadata": {},
   "outputs": [],
   "source": [
    "AgilityClaimsHistory_df = pd.read_sql(sql_query,cnxn)"
   ]
  },
  {
   "cell_type": "code",
   "execution_count": null,
   "metadata": {},
   "outputs": [],
   "source": [
    "cnxn.close()"
   ]
  },
  {
   "cell_type": "code",
   "execution_count": null,
   "metadata": {},
   "outputs": [],
   "source": [
    "conn_str = (\n",
    "    r'Driver={SQL Server};'\n",
    "    r'Server=kx-jhb-sql\\sql01;'\n",
    "    r'Database=master;'\n",
    "    r'Trusted_Connection=yes;'\n",
    "    )\n",
    "cnxn = p.connect(conn_str)"
   ]
  },
  {
   "cell_type": "code",
   "execution_count": null,
   "metadata": {},
   "outputs": [],
   "source": [
    "conn_str = (\n",
    "    r'Driver={SQL Server};'\n",
    "    r'Server=kx-jhb-sql\\sql01;'\n",
    "    r'Database=master;'\n",
    "    r'Trusted_Connection=yes;'\n",
    "    )\n",
    "cnxn = p.connect(conn_str)"
   ]
  },
  {
   "cell_type": "code",
   "execution_count": null,
   "metadata": {},
   "outputs": [],
   "source": [
    "sql_query=\"\"\"SELECT TOP 3 * FROM mipst_dbo.tsf_ccm_template\"\"\"\n",
    "tsf_ccm_template_df = pd.read_sql(sql_query,cnxn)"
   ]
  },
  {
   "cell_type": "code",
   "execution_count": null,
   "metadata": {},
   "outputs": [],
   "source": [
    "server = 'kx-jhb-sql\\sql01' \n",
    "database = 'AnalyticsAndReports' \n",
    "username = 'kaelojhb\\christo.strydom' \n",
    "password = 'Twenty23' \n",
    "cnxn = p.connect('DRIVER={SQL Server};SERVER='+server+';UID='+username+';PWD='+ password)\n",
    "cursor = cnxn.cursor()"
   ]
  },
  {
   "cell_type": "code",
   "execution_count": null,
   "metadata": {},
   "outputs": [],
   "source": [
    "connStr = ('DRIVER={SQL Server Native Client 10.0};Server=196.34.234.252;port=5432;Network Library=DBMSSOCN;Database=kx_bi;uid=kaelouser;pwd=kaelouser;')"
   ]
  },
  {
   "cell_type": "code",
   "execution_count": null,
   "metadata": {},
   "outputs": [],
   "source": [
    "connStr = ('DRIVER={SQL Server};Server=kx-jhb-sql\\sql01;Database=sql01;uid=kaelouser;pwd=kaelouser;')"
   ]
  },
  {
   "cell_type": "code",
   "execution_count": null,
   "metadata": {},
   "outputs": [],
   "source": [
    "connStr = ('DRIVER={SQL Server};Server=kx-jhb-sql\\sql01;uid=lmbalula;pwd=lmbalula;')"
   ]
  },
  {
   "cell_type": "code",
   "execution_count": null,
   "metadata": {},
   "outputs": [],
   "source": [
    "conn = p.connect(connStr)"
   ]
  },
  {
   "cell_type": "code",
   "execution_count": null,
   "metadata": {},
   "outputs": [],
   "source": [
    "cursor = cnxn.cursor()"
   ]
  },
  {
   "cell_type": "code",
   "execution_count": null,
   "metadata": {},
   "outputs": [],
   "source": [
    "conn_str = (\n",
    "    \"DRIVER={PostgreSQL ODBC Driver(UNICODE)};\"\n",
    "    \"DATABASE=kx_bi;\"\n",
    "    \"UID=postgres;\"\n",
    "    \"PWD=postgres;\"\n",
    "    \"SERVER=172.31.244.44;\"\n",
    "    \"PORT=5432;\"\n",
    "    )"
   ]
  },
  {
   "cell_type": "code",
   "execution_count": null,
   "metadata": {},
   "outputs": [],
   "source": [
    "conn = p.connect(conn_str)\n",
    "cursor = conn.cursor()"
   ]
  },
  {
   "cell_type": "code",
   "execution_count": null,
   "metadata": {},
   "outputs": [],
   "source": [
    "AgilityClaimsHistory_df = pd.read_sql(sql_query,conn)"
   ]
  },
  {
   "cell_type": "code",
   "execution_count": null,
   "metadata": {},
   "outputs": [],
   "source": [
    "cnxn = p.connect('DRIVER={PostgreSQL};Server=172.31.244.44;Port=5432;Database=kx_bi;User ID=kaelouser;Password=kaelouser;String Types=Unicode')"
   ]
  },
  {
   "cell_type": "code",
   "execution_count": null,
   "metadata": {},
   "outputs": [],
   "source": [
    "conn = p.connect(conn_str)"
   ]
  },
  {
   "cell_type": "code",
   "execution_count": null,
   "metadata": {},
   "outputs": [],
   "source": [
    "server = 'tcp:myserver.database.windows.net' \n",
    "database = 'mydb' \n",
    "username = 'myusername' \n",
    "password = 'mypassword' \n",
    "cnxn = pyodbc.connect('DRIVER={ODBC Driver 17 for SQL Server};SERVER='+server+';DATABASE='+database+';UID='+username+';PWD='+ password)\n",
    "cursor = cnxn.cursor()\n"
   ]
  },
  {
   "cell_type": "code",
   "execution_count": null,
   "metadata": {},
   "outputs": [],
   "source": [
    "p.connect()"
   ]
  },
  {
   "cell_type": "code",
   "execution_count": null,
   "metadata": {},
   "outputs": [],
   "source": [
    "cnxn=p.connect(driver='{SQL Server}',\\n\",\n",
    "    \"                                server='BISAN\\\\BISAN', \\n\",\n",
    "    \"#                                 database=database_name,\\n\",\n",
    "    \"                                trusted_connection='yes')"
   ]
  }
 ],
 "metadata": {
  "kernelspec": {
   "display_name": "Python 3",
   "language": "python",
   "name": "python3"
  },
  "language_info": {
   "codemirror_mode": {
    "name": "ipython",
    "version": 3
   },
   "file_extension": ".py",
   "mimetype": "text/x-python",
   "name": "python",
   "nbconvert_exporter": "python",
   "pygments_lexer": "ipython3",
   "version": "3.7.9"
  }
 },
 "nbformat": 4,
 "nbformat_minor": 4
}
